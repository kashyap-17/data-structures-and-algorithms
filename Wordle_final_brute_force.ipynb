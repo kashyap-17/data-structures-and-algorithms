{
 "cells": [
  {
   "cell_type": "markdown",
   "metadata": {
    "id": "m3qMyeHi3vTd"
   },
   "source": [
    "# Wordle"
   ]
  },
  {
   "cell_type": "code",
   "execution_count": 54,
   "metadata": {
    "id": "ebvoDsjI-pAs"
   },
   "outputs": [],
   "source": [
    "import time\n",
    "import random"
   ]
  },
  {
   "cell_type": "code",
   "execution_count": 55,
   "metadata": {
    "id": "ctulzuZzAcV-"
   },
   "outputs": [],
   "source": [
    "def give_colors(true_word, guess):\n",
    "  \"\"\" takes two strings of length 5.\n",
    "  returns a list of length 5 with values 0,1 or 2. \"\"\"\n",
    "  ans = []\n",
    "  for i in range(5):\n",
    "    if guess [i] not in true_word:\n",
    "      ans.append(0)\n",
    "    elif guess[i] == true_word[i]:\n",
    "      ans.append(2)\n",
    "    else:\n",
    "      ans.append(1)\n",
    "  return(ans)\n"
   ]
  },
  {
   "cell_type": "code",
   "execution_count": 56,
   "metadata": {
    "id": "oy6NWZ9LJ2kb"
   },
   "outputs": [],
   "source": [
    "#legal_word_list = [\"ABVCDGERQO\", \"ABVCDZXBNO\", \"YUISCZXBNO\"]"
   ]
  },
  {
   "cell_type": "code",
   "execution_count": 57,
   "metadata": {
    "id": "syF-nJjkJ2kc"
   },
   "outputs": [],
   "source": [
    "import nltk\n",
    "from nltk.corpus import words"
   ]
  },
  {
   "cell_type": "code",
   "execution_count": 58,
   "metadata": {
    "colab": {
     "base_uri": "https://localhost:8080/"
    },
    "id": "F-paATBvJ2kc",
    "outputId": "d535df23-535a-44d0-a831-c9e45e0b34ac"
   },
   "outputs": [
    {
     "name": "stderr",
     "output_type": "stream",
     "text": [
      "[nltk_data] Downloading package words to /Users/kashyap/nltk_data...\n",
      "[nltk_data]   Package words is already up-to-date!\n"
     ]
    },
    {
     "data": {
      "text/plain": [
       "True"
      ]
     },
     "execution_count": 58,
     "metadata": {},
     "output_type": "execute_result"
    }
   ],
   "source": [
    "nltk.download('words')"
   ]
  },
  {
   "cell_type": "code",
   "execution_count": 59,
   "metadata": {
    "id": "V265SpVTJ2ke"
   },
   "outputs": [],
   "source": [
    "english_words = words.words()"
   ]
  },
  {
   "cell_type": "code",
   "execution_count": 60,
   "metadata": {
    "colab": {
     "base_uri": "https://localhost:8080/"
    },
    "id": "BrOWu7iSnzk-",
    "outputId": "80c11def-bb53-4190-f9e5-7080e74c8a39"
   },
   "outputs": [
    {
     "data": {
      "text/plain": [
       "True"
      ]
     },
     "execution_count": 60,
     "metadata": {},
     "output_type": "execute_result"
    }
   ],
   "source": [
    "\"kefir\" in english_words"
   ]
  },
  {
   "cell_type": "code",
   "execution_count": 61,
   "metadata": {
    "id": "xtyHEUYdJ2kf"
   },
   "outputs": [],
   "source": [
    "length_5_words= []\n",
    "length_5_non_repeating_char_words = []"
   ]
  },
  {
   "cell_type": "code",
   "execution_count": 62,
   "metadata": {
    "id": "xkSHmzhCJ2kg"
   },
   "outputs": [],
   "source": [
    "for el in english_words:\n",
    "    if len(el)==5:\n",
    "        length_5_words.append(el)\n",
    "        if len(set(el))==5:\n",
    "            length_5_non_repeating_char_words.append(el)"
   ]
  },
  {
   "cell_type": "code",
   "execution_count": 63,
   "metadata": {
    "colab": {
     "base_uri": "https://localhost:8080/"
    },
    "id": "3WyMLhWDJ2kg",
    "outputId": "6d6d7bb4-d30f-4e45-a2d6-9157b7e47aef"
   },
   "outputs": [
    {
     "name": "stdout",
     "output_type": "stream",
     "text": [
      "10422\n",
      "6821\n"
     ]
    }
   ],
   "source": [
    "# print(length_5_words)\n",
    "print(len(length_5_words))\n",
    "print(len(length_5_non_repeating_char_words))"
   ]
  },
  {
   "cell_type": "code",
   "execution_count": 64,
   "metadata": {
    "id": "fR_P_MtrJ2kh"
   },
   "outputs": [],
   "source": [
    "#trial_legal_list = random.choices(length_5_non_repeating_char_words,k=100, seed = 47)"
   ]
  },
  {
   "cell_type": "code",
   "execution_count": 65,
   "metadata": {
    "id": "_lUakIktJ2kh"
   },
   "outputs": [],
   "source": [
    "#trial_legal_list[:10]"
   ]
  },
  {
   "cell_type": "raw",
   "metadata": {
    "id": "1BT_IGrbJ2ki"
   },
   "source": [
    "len(trial_legal_list)"
   ]
  },
  {
   "cell_type": "code",
   "execution_count": 66,
   "metadata": {
    "colab": {
     "base_uri": "https://localhost:8080/"
    },
    "id": "k5D6gJ_RJ2ki",
    "outputId": "3f5aa24c-2990-4bd8-88e7-9c5a9bd29534"
   },
   "outputs": [
    {
     "data": {
      "text/plain": [
       "6821"
      ]
     },
     "execution_count": 66,
     "metadata": {},
     "output_type": "execute_result"
    }
   ],
   "source": [
    "len(length_5_non_repeating_char_words)"
   ]
  },
  {
   "cell_type": "code",
   "execution_count": 74,
   "metadata": {
    "id": "FWxqBA6JJ2ki"
   },
   "outputs": [],
   "source": [
    "true_word = \"shade\""
   ]
  },
  {
   "cell_type": "code",
   "execution_count": 75,
   "metadata": {
    "colab": {
     "base_uri": "https://localhost:8080/"
    },
    "id": "AHVCJ-G_J2ki",
    "outputId": "ff3dd8ef-4a63-4dce-8bc3-d7c4d8dd2d97"
   },
   "outputs": [
    {
     "data": {
      "text/plain": [
       "True"
      ]
     },
     "execution_count": 75,
     "metadata": {},
     "output_type": "execute_result"
    }
   ],
   "source": [
    "true_word in length_5_non_repeating_char_words"
   ]
  },
  {
   "cell_type": "code",
   "execution_count": 76,
   "metadata": {
    "colab": {
     "base_uri": "https://localhost:8080/"
    },
    "id": "HYEszukpMVi8",
    "outputId": "42341a29-ab63-4871-d6f4-383de2bca1e5"
   },
   "outputs": [
    {
     "data": {
      "text/plain": [
       "str"
      ]
     },
     "execution_count": 76,
     "metadata": {},
     "output_type": "execute_result"
    }
   ],
   "source": [
    "type((random.choices(length_5_non_repeating_char_words))[0])"
   ]
  },
  {
   "cell_type": "code",
   "execution_count": 77,
   "metadata": {
    "id": "z2PBiOFg-sSr"
   },
   "outputs": [],
   "source": [
    "def nextGuess(current_guesses, current_colors, legal_words):\n",
    "    if len(current_guesses) == 0:\n",
    "        #starting with a random word\n",
    "        #ans = random.choices(legal_words)[0]\n",
    "        #return(ans)\n",
    "        return('adieu') # supposed to be a good word\n",
    "\n",
    "    else:\n",
    "        updated_legal_list = list(legal_words)\n",
    "        for i in range(len(current_colors)):\n",
    "            for j in range(5):\n",
    "                if current_colors[i][j] == 0:\n",
    "                  char_drop = current_guesses[i][j]\n",
    "                  updated_legal_list = [word for word in updated_legal_list if char_drop not in word] #the list comprehhension way\n",
    "                  for word in legal_words:\n",
    "                      if char_drop in word:\n",
    "                        if word in updated_legal_list:\n",
    "                          updated_legal_list.remove(word)\n",
    "                #if current_colors[i][j] == 1:\n",
    "                  #updated_legal_list = [word for word in updated_legal_list if word[j] != current_guesses[i][j]]\n",
    "        ans = random.choices(updated_legal_list)[0]\n",
    "        print(f'updated legal list is {len((updated_legal_list))} long')\n",
    "        return (ans)\n",
    "\n",
    "        \"\"\" current_guesses : list of length k, (integer k can be zero).\n",
    "   each element in this list is a string of 5,\n",
    "  string only contaimns lowev case a to z.\n",
    "\n",
    "  current_colors: list of length k,\n",
    "  each element in this list is a list of length 5.\n",
    "  0 - gray, 1 - yellow, 2 - green.\n",
    "\n",
    "  legal words is a list of length V.\n",
    "  each element in this list is a string of length  5.\n",
    "  string only contains lower case a to z.\n",
    "\n",
    "  return legal word - string of length 10,\n",
    "\n",
    "  \"\"\"\n",
    "\n"
   ]
  },
  {
   "cell_type": "code",
   "execution_count": 78,
   "metadata": {
    "colab": {
     "base_uri": "https://localhost:8080/"
    },
    "id": "k-ixBAW6DGXq",
    "outputId": "644ab7bb-28db-4254-8375-d3f83bf4b79f"
   },
   "outputs": [
    {
     "name": "stdout",
     "output_type": "stream",
     "text": [
      "Guess number 1 is:\n",
      "adieu\n",
      "Time for iteration: 0.0007 sec\n",
      "-------------- \n",
      "updated legal list is 3130 long\n",
      "Guess number 2 is:\n",
      "stamp\n",
      "Time for iteration: 0.5848 sec\n",
      "-------------- \n",
      "updated legal list is 1587 long\n",
      "Guess number 3 is:\n",
      "frosh\n",
      "Time for iteration: 0.4765 sec\n",
      "-------------- \n",
      "updated legal list is 440 long\n",
      "Guess number 4 is:\n",
      "clavy\n",
      "Time for iteration: 0.5848 sec\n",
      "-------------- \n",
      "updated legal list is 103 long\n",
      "Guess number 5 is:\n",
      "shade\n",
      "Time for iteration: 0.7708 sec\n",
      "-------------- \n",
      "Total time: 0.7708 sec \n"
     ]
    }
   ],
   "source": [
    "\n",
    "legal_word_list = length_5_non_repeating_char_words\n",
    "guess_list = []\n",
    "colors_list = []\n",
    "num_guesses = 0\n",
    "start_full = time.time()\n",
    "while(1>0):\n",
    "  start = time.time()\n",
    "  curr_guess = nextGuess(guess_list, colors_list, legal_word_list)\n",
    "  num_guesses +=1\n",
    "  curr_colors = give_colors(true_word, curr_guess)\n",
    "  guess_list.append(curr_guess)\n",
    "  colors_list.append(curr_colors)\n",
    "  print(f'Guess number {num_guesses} is:\\n{guess_list[-1]}')\n",
    "  end = time.time()\n",
    "  print(f'Time for iteration: {round(end-start,4)} sec\\n-------------- ')\n",
    "  if sum(curr_colors) == 10:\n",
    "    break\n",
    "end_full = time.time()\n",
    "print(f'Total time: {round(end-start,4)} sec ')"
   ]
  },
  {
   "cell_type": "code",
   "execution_count": 73,
   "metadata": {
    "id": "VGGsARTYFKBi",
    "outputId": "56027992-cc7e-4a71-c6cd-7533a47ee338"
   },
   "outputs": [
    {
     "name": "stdout",
     "output_type": "stream",
     "text": [
      "True word number 1 is salix\n",
      "Guess number 1 is:\n",
      "adieu\n",
      "Time for iteration: 0.0 sec\n",
      "-------------- \n",
      "updated legal list is 10 long\n",
      "Guess number 2 is:\n",
      "Bacis\n",
      "Time for iteration: 0.0001 sec\n",
      "-------------- \n",
      "updated legal list is 7 long\n",
      "Guess number 3 is:\n",
      "zygal\n",
      "Time for iteration: 0.0001 sec\n",
      "-------------- \n",
      "updated legal list is 4 long\n",
      "Guess number 4 is:\n",
      "atrip\n",
      "Time for iteration: 0.0001 sec\n",
      "-------------- \n",
      "updated legal list is 3 long\n",
      "Guess number 5 is:\n",
      "salix\n",
      "Time for iteration: 0.0001 sec\n",
      "-------------- \n",
      "Total guesses was 5\n",
      "True word number 2 is sarif\n",
      "Guess number 1 is:\n",
      "adieu\n",
      "Time for iteration: 0.0 sec\n",
      "-------------- \n",
      "updated legal list is 7 long\n",
      "Guess number 2 is:\n",
      "Wiyat\n",
      "Time for iteration: 0.0 sec\n",
      "-------------- \n",
      "updated legal list is 4 long\n",
      "Guess number 3 is:\n",
      "corps\n",
      "Time for iteration: 0.0 sec\n",
      "-------------- \n",
      "updated legal list is 1 long\n",
      "Guess number 4 is:\n",
      "sarif\n",
      "Time for iteration: 0.0001 sec\n",
      "-------------- \n",
      "Total guesses was 4\n",
      "True word number 3 is coapt\n",
      "Guess number 1 is:\n",
      "adieu\n",
      "Time for iteration: 0.0 sec\n",
      "-------------- \n",
      "updated legal list is 4 long\n",
      "Guess number 2 is:\n",
      "coapt\n",
      "Time for iteration: 0.0 sec\n",
      "-------------- \n",
      "Total guesses was 2\n",
      "True word number 4 is warse\n",
      "Guess number 1 is:\n",
      "adieu\n",
      "Time for iteration: 0.0 sec\n",
      "-------------- \n",
      "updated legal list is 12 long\n",
      "Guess number 2 is:\n",
      "tench\n",
      "Time for iteration: 0.0001 sec\n",
      "-------------- \n",
      "updated legal list is 2 long\n",
      "Guess number 3 is:\n",
      "warse\n",
      "Time for iteration: 0.0001 sec\n",
      "-------------- \n",
      "Total guesses was 3\n",
      "True word number 5 is crust\n",
      "Guess number 1 is:\n",
      "adieu\n",
      "Time for iteration: 0.0 sec\n",
      "-------------- \n",
      "updated legal list is 3 long\n",
      "Guess number 2 is:\n",
      "crust\n",
      "Time for iteration: 0.0001 sec\n",
      "-------------- \n",
      "Total guesses was 2\n",
      "True word number 6 is orsel\n",
      "Guess number 1 is:\n",
      "adieu\n",
      "Time for iteration: 0.0 sec\n",
      "-------------- \n",
      "updated legal list is 5 long\n",
      "Guess number 2 is:\n",
      "orsel\n",
      "Time for iteration: 0.0001 sec\n",
      "-------------- \n",
      "Total guesses was 2\n",
      "True word number 7 is towel\n",
      "Guess number 1 is:\n",
      "adieu\n",
      "Time for iteration: 0.0 sec\n",
      "-------------- \n",
      "updated legal list is 5 long\n",
      "Guess number 2 is:\n",
      "hymen\n",
      "Time for iteration: 0.0001 sec\n",
      "-------------- \n",
      "updated legal list is 3 long\n",
      "Guess number 3 is:\n",
      "joker\n",
      "Time for iteration: 0.0001 sec\n",
      "-------------- \n",
      "updated legal list is 1 long\n",
      "Guess number 4 is:\n",
      "towel\n",
      "Time for iteration: 0.0001 sec\n",
      "-------------- \n",
      "Total guesses was 4\n",
      "True word number 8 is caste\n",
      "Guess number 1 is:\n",
      "adieu\n",
      "Time for iteration: 0.0 sec\n",
      "-------------- \n",
      "updated legal list is 11 long\n",
      "Guess number 2 is:\n",
      "fawny\n",
      "Time for iteration: 0.0001 sec\n",
      "-------------- \n",
      "updated legal list is 4 long\n",
      "Guess number 3 is:\n",
      "caste\n",
      "Time for iteration: 0.0001 sec\n",
      "-------------- \n",
      "Total guesses was 3\n",
      "True word number 9 is joust\n",
      "Guess number 1 is:\n",
      "adieu\n",
      "Time for iteration: 0.0 sec\n",
      "-------------- \n",
      "updated legal list is 4 long\n",
      "Guess number 2 is:\n",
      "cloth\n",
      "Time for iteration: 0.0001 sec\n",
      "-------------- \n",
      "updated legal list is 2 long\n",
      "Guess number 3 is:\n",
      "group\n",
      "Time for iteration: 0.0001 sec\n",
      "-------------- \n",
      "updated legal list is 1 long\n",
      "Guess number 4 is:\n",
      "joust\n",
      "Time for iteration: 0.0001 sec\n",
      "-------------- \n",
      "Total guesses was 4\n",
      "True word number 10 is lurky\n",
      "Guess number 1 is:\n",
      "adieu\n",
      "Time for iteration: 0.0 sec\n",
      "-------------- \n",
      "updated legal list is 2 long\n",
      "Guess number 2 is:\n",
      "lurky\n",
      "Time for iteration: 0.0 sec\n",
      "-------------- \n",
      "Total guesses was 2\n",
      "True word number 11 is weird\n",
      "Guess number 1 is:\n",
      "adieu\n",
      "Time for iteration: 0.0 sec\n",
      "-------------- \n",
      "updated legal list is 6 long\n",
      "Guess number 2 is:\n",
      "weird\n",
      "Time for iteration: 0.0 sec\n",
      "-------------- \n",
      "Total guesses was 2\n",
      "True word number 12 is Darin\n",
      "Guess number 1 is:\n",
      "adieu\n",
      "Time for iteration: 0.0 sec\n",
      "-------------- \n",
      "updated legal list is 11 long\n",
      "Guess number 2 is:\n",
      "gator\n",
      "Time for iteration: 0.0 sec\n",
      "-------------- \n",
      "updated legal list is 7 long\n",
      "Guess number 3 is:\n",
      "nival\n",
      "Time for iteration: 0.0 sec\n",
      "-------------- \n",
      "updated legal list is 2 long\n",
      "Guess number 4 is:\n",
      "Darin\n",
      "Time for iteration: 0.0 sec\n",
      "-------------- \n",
      "Total guesses was 4\n",
      "True word number 13 is plunk\n",
      "Guess number 1 is:\n",
      "adieu\n",
      "Time for iteration: 0.0 sec\n",
      "-------------- \n",
      "updated legal list is 4 long\n",
      "Guess number 2 is:\n",
      "lochy\n",
      "Time for iteration: 0.0 sec\n",
      "-------------- \n",
      "updated legal list is 1 long\n",
      "Guess number 3 is:\n",
      "plunk\n",
      "Time for iteration: 0.0 sec\n",
      "-------------- \n",
      "Total guesses was 3\n",
      "True word number 14 is fungo\n",
      "Guess number 1 is:\n",
      "adieu\n",
      "Time for iteration: 0.0 sec\n",
      "-------------- \n",
      "updated legal list is 3 long\n",
      "Guess number 2 is:\n",
      "works\n",
      "Time for iteration: 0.0 sec\n",
      "-------------- \n",
      "updated legal list is 2 long\n",
      "Guess number 3 is:\n",
      "punto\n",
      "Time for iteration: 0.0 sec\n",
      "-------------- \n",
      "updated legal list is 1 long\n",
      "Guess number 4 is:\n",
      "fungo\n",
      "Time for iteration: 0.0 sec\n",
      "-------------- \n",
      "Total guesses was 4\n",
      "True word number 15 is odeum\n",
      "Guess number 1 is:\n",
      "adieu\n",
      "Time for iteration: 0.0 sec\n",
      "-------------- \n",
      "updated legal list is 11 long\n",
      "Guess number 2 is:\n",
      "pursy\n",
      "Time for iteration: 0.0 sec\n",
      "-------------- \n",
      "updated legal list is 3 long\n",
      "Guess number 3 is:\n",
      "Pluto\n",
      "Time for iteration: 0.0 sec\n",
      "-------------- \n",
      "updated legal list is 1 long\n",
      "Guess number 4 is:\n",
      "odeum\n",
      "Time for iteration: 0.0 sec\n",
      "-------------- \n",
      "Total guesses was 4\n",
      "True word number 16 is flong\n",
      "Guess number 1 is:\n",
      "adieu\n",
      "Time for iteration: 0.0 sec\n",
      "-------------- \n",
      "updated legal list is 1 long\n",
      "Guess number 2 is:\n",
      "flong\n",
      "Time for iteration: 0.0001 sec\n",
      "-------------- \n",
      "Total guesses was 2\n",
      "True word number 17 is thewy\n",
      "Guess number 1 is:\n",
      "adieu\n",
      "Time for iteration: 0.0 sec\n",
      "-------------- \n",
      "updated legal list is 1 long\n",
      "Guess number 2 is:\n",
      "thewy\n",
      "Time for iteration: 0.0 sec\n",
      "-------------- \n",
      "Total guesses was 2\n",
      "True word number 18 is gripy\n",
      "Guess number 1 is:\n",
      "adieu\n",
      "Time for iteration: 0.0 sec\n",
      "-------------- \n",
      "updated legal list is 1 long\n",
      "Guess number 2 is:\n",
      "gripy\n",
      "Time for iteration: 0.0 sec\n",
      "-------------- \n",
      "Total guesses was 2\n",
      "True word number 19 is kniaz\n",
      "Guess number 1 is:\n",
      "adieu\n",
      "Time for iteration: 0.0 sec\n",
      "-------------- \n",
      "updated legal list is 10 long\n",
      "Guess number 2 is:\n",
      "osmic\n",
      "Time for iteration: 0.0 sec\n",
      "-------------- \n",
      "updated legal list is 3 long\n",
      "Guess number 3 is:\n",
      "argil\n",
      "Time for iteration: 0.0 sec\n",
      "-------------- \n",
      "updated legal list is 1 long\n",
      "Guess number 4 is:\n",
      "kniaz\n",
      "Time for iteration: 0.0 sec\n",
      "-------------- \n",
      "Total guesses was 4\n",
      "True word number 20 is swile\n",
      "Guess number 1 is:\n",
      "adieu\n",
      "Time for iteration: 0.0 sec\n",
      "-------------- \n",
      "updated legal list is 5 long\n",
      "Guess number 2 is:\n",
      "becry\n",
      "Time for iteration: 0.0 sec\n",
      "-------------- \n",
      "updated legal list is 4 long\n",
      "Guess number 3 is:\n",
      "swile\n",
      "Time for iteration: 0.0 sec\n",
      "-------------- \n",
      "Total guesses was 3\n",
      "average Total time: 0.00028 sec \n",
      "average guesses: 3.05 \n"
     ]
    }
   ],
   "source": [
    "start_full = time.time()\n",
    "total_guesses = 0\n",
    "for i in range(20):\n",
    "    legal_word_list = random.choices(length_5_non_repeating_char_words, k = 25)\n",
    "    true_word1 = random.choices(legal_word_list)[0]\n",
    "    print(f'True word number {i+1} is {true_word1}')\n",
    "    guess_list = []\n",
    "    colors_list = []\n",
    "    num_guesses = 0\n",
    "    while(1>0):\n",
    "        start = time.time()\n",
    "        curr_guess = nextGuess(guess_list, colors_list, legal_word_list)\n",
    "        num_guesses +=1\n",
    "        curr_colors = give_colors(true_word1, curr_guess)\n",
    "        guess_list.append(curr_guess)\n",
    "        colors_list.append(curr_colors)\n",
    "        print(f'Guess number {num_guesses} is:\\n{guess_list[-1]}')\n",
    "        end = time.time()\n",
    "        print(f'Time for iteration: {round(end-start,4)} sec\\n-------------- ')\n",
    "        if sum(curr_colors) == 10:\n",
    "            break\n",
    "    print(f'Total guesses was {num_guesses}')\n",
    "    total_guesses += num_guesses\n",
    "end_full = time.time()\n",
    "print(f'average Total time: {round((end_full-start_full),4)/20} sec ')\n",
    "print(f'average guesses: {round(total_guesses,2)/20} ')"
   ]
  },
  {
   "cell_type": "code",
   "execution_count": 26,
   "metadata": {
    "id": "hjkBdbskJ2kk",
    "outputId": "58eda1cb-115d-4aa2-ab9e-b8175289b034"
   },
   "outputs": [
    {
     "ename": "SyntaxError",
     "evalue": "closing parenthesis ']' does not match opening parenthesis '(' (4245847817.py, line 1)",
     "output_type": "error",
     "traceback": [
      "\u001b[0;36m  Cell \u001b[0;32mIn[26], line 1\u001b[0;36m\u001b[0m\n\u001b[0;31m    length_5_non_repeating_char_words[rand.int(len(length_5_non_repeating_char_words)]]\u001b[0m\n\u001b[0m                                                                                     ^\u001b[0m\n\u001b[0;31mSyntaxError\u001b[0m\u001b[0;31m:\u001b[0m closing parenthesis ']' does not match opening parenthesis '('\n"
     ]
    }
   ],
   "source": [
    "length_5_non_repeating_char_words[rand.int(len(length_5_non_repeating_char_words)]]"
   ]
  },
  {
   "cell_type": "code",
   "execution_count": 32,
   "metadata": {
    "id": "WcHsNEFoJ2kk",
    "outputId": "a545166d-7f9a-451a-b2e2-eaf2795a6935"
   },
   "outputs": [
    {
     "data": {
      "text/plain": [
       "['Aaron', 'abhor', 'abide', 'Abies', 'abilo']"
      ]
     },
     "execution_count": 32,
     "metadata": {},
     "output_type": "execute_result"
    }
   ],
   "source": [
    "length_5_non_repeating_char_words[:5]"
   ]
  },
  {
   "cell_type": "code",
   "execution_count": null,
   "metadata": {
    "id": "tDm_tjrDJ2kk"
   },
   "outputs": [],
   "source": [
    "guess_list1 = ['Cursa']"
   ]
  },
  {
   "cell_type": "code",
   "execution_count": null,
   "metadata": {
    "id": "K2x3FVLcJ2kk"
   },
   "outputs": [],
   "source": [
    "curr_colors1=[[0, 0, 2, 0, 0]]"
   ]
  },
  {
   "cell_type": "code",
   "execution_count": null,
   "metadata": {
    "id": "IFMLesiAJ2kl"
   },
   "outputs": [],
   "source": [
    "curr_colors1.append(give_colors(true_word, guess_list1[0]))"
   ]
  },
  {
   "cell_type": "code",
   "execution_count": null,
   "metadata": {
    "id": "NuVrrPHVJ2kl"
   },
   "outputs": [],
   "source": [
    "curr_colors1.append(give_colors(true_word, guess_list1[1]))"
   ]
  },
  {
   "cell_type": "code",
   "execution_count": null,
   "metadata": {
    "id": "jVGwFWHrJ2kl",
    "outputId": "5a9a80cc-b47a-4e35-a93e-3954b9729944"
   },
   "outputs": [
    {
     "data": {
      "text/plain": [
       "[[2, 0, 1, 1, 0], [1, 0, 0, 0, 1]]"
      ]
     },
     "execution_count": 156,
     "metadata": {},
     "output_type": "execute_result"
    }
   ],
   "source": [
    "curr_colors1"
   ]
  },
  {
   "cell_type": "code",
   "execution_count": null,
   "metadata": {
    "id": "angOpHq2J2kl",
    "outputId": "0318b0dc-5a42-4a97-a54d-6da1fa0e0281"
   },
   "outputs": [
    {
     "data": {
      "text/plain": [
       "['Cursa']"
      ]
     },
     "execution_count": 183,
     "metadata": {},
     "output_type": "execute_result"
    }
   ],
   "source": [
    "nextGuess(guess_list1 , curr_colors1, trial_legal_list)"
   ]
  },
  {
   "cell_type": "code",
   "execution_count": null,
   "metadata": {
    "id": "aQorXnnrJ2kl",
    "outputId": "0a2d8cd9-d6c6-437e-bba8-39c92007a470"
   },
   "outputs": [
    {
     "data": {
      "text/plain": [
       "[0, 0, 2, 0, 0]"
      ]
     },
     "execution_count": 184,
     "metadata": {},
     "output_type": "execute_result"
    }
   ],
   "source": [
    "give_colors('Cursa',  true_word)"
   ]
  },
  {
   "cell_type": "code",
   "execution_count": null,
   "metadata": {
    "id": "XNXEMzpAJ2km",
    "outputId": "e0da8f9a-d2ea-4062-826b-3e5607066b94"
   },
   "outputs": [
    {
     "data": {
      "text/plain": [
       "True"
      ]
     },
     "execution_count": 185,
     "metadata": {},
     "output_type": "execute_result"
    }
   ],
   "source": [
    "'Cursa' in trial_legal_list"
   ]
  },
  {
   "cell_type": "code",
   "execution_count": null,
   "metadata": {
    "id": "gOF3Qfh9J2km",
    "outputId": "4c359f4c-8445-4122-9f2a-2780c36a9e9b"
   },
   "outputs": [
    {
     "data": {
      "text/plain": [
       "['chlor']"
      ]
     },
     "execution_count": 188,
     "metadata": {},
     "output_type": "execute_result"
    }
   ],
   "source": [
    "nextGuess(guess_list1 , curr_colors1, trial_legal_list)"
   ]
  },
  {
   "cell_type": "raw",
   "metadata": {
    "id": "DmN5GEuSJ2km"
   },
   "source": [
    "b"
   ]
  },
  {
   "cell_type": "code",
   "execution_count": null,
   "metadata": {
    "colab": {
     "base_uri": "https://localhost:8080/",
     "height": 144
    },
    "id": "kjL7JD_UJ2km",
    "outputId": "0387542e-5751-4c63-bc11-a21ed765b3ab"
   },
   "outputs": [
    {
     "ename": "NameError",
     "evalue": "name 'give_colors' is not defined",
     "output_type": "error",
     "traceback": [
      "\u001b[0;31m---------------------------------------------------------------------------\u001b[0m",
      "\u001b[0;31mNameError\u001b[0m                                 Traceback (most recent call last)",
      "\u001b[0;32m/tmp/ipython-input-2352863056.py\u001b[0m in \u001b[0;36m<cell line: 0>\u001b[0;34m()\u001b[0m\n\u001b[0;32m----> 1\u001b[0;31m \u001b[0mgive_colors\u001b[0m\u001b[0;34m(\u001b[0m\u001b[0;34m'chlor'\u001b[0m\u001b[0;34m,\u001b[0m  \u001b[0mtrue_word\u001b[0m\u001b[0;34m)\u001b[0m\u001b[0;34m\u001b[0m\u001b[0;34m\u001b[0m\u001b[0m\n\u001b[0m",
      "\u001b[0;31mNameError\u001b[0m: name 'give_colors' is not defined"
     ]
    }
   ],
   "source": [
    "give_colors('chlor',  true_word)"
   ]
  },
  {
   "cell_type": "code",
   "execution_count": null,
   "metadata": {
    "id": "rv0Vh9OzJ2kn",
    "outputId": "8c23e6ea-8f78-4a40-8086-afbd3e1a2a1d"
   },
   "outputs": [
    {
     "data": {
      "text/plain": [
       "True"
      ]
     },
     "execution_count": 94,
     "metadata": {},
     "output_type": "execute_result"
    }
   ],
   "source": [
    "'gluck' in trial_legal_list"
   ]
  },
  {
   "cell_type": "code",
   "execution_count": null,
   "metadata": {
    "id": "3HZUD2fsJ2kn",
    "outputId": "01fc8d34-4da2-4717-a5c1-a14f0990f01b"
   },
   "outputs": [
    {
     "data": {
      "text/plain": [
       "2"
      ]
     },
     "execution_count": 157,
     "metadata": {},
     "output_type": "execute_result"
    }
   ],
   "source": [
    "len(curr_colors1)"
   ]
  },
  {
   "cell_type": "code",
   "execution_count": null,
   "metadata": {
    "id": "Q92NzZ-2J2kn",
    "outputId": "8d4a299d-b582-4dd6-f8d9-8fa7991f7dcb"
   },
   "outputs": [
    {
     "name": "stdout",
     "output_type": "stream",
     "text": [
      "t\n",
      "m\n",
      "l\n",
      "o\n",
      "n\n"
     ]
    }
   ],
   "source": [
    "for i in range(len(curr_colors1)):\n",
    "    for j in range(5):\n",
    "        if curr_colors1[i][j] == 0:\n",
    "            char_drop = guess_list1 [i][j]\n",
    "            print(char_drop)"
   ]
  },
  {
   "cell_type": "code",
   "execution_count": null,
   "metadata": {
    "id": "yIsPwr-5J2ko"
   },
   "outputs": [],
   "source": [
    "updated_legal_list = trial_legal_list\n",
    "for i in range(len(curr_colors1)):\n",
    "    for j in range(5):\n",
    "        if curr_colors1[i][j] == 0:\n",
    "            char_drop = guess_list1 [i][j]\n",
    "            for word in updated_legal_list:\n",
    "                if char_drop in word:\n",
    "                    updated_legal_list.remove(word)"
   ]
  },
  {
   "cell_type": "code",
   "execution_count": null,
   "metadata": {
    "id": "ObFFpLHvJ2ko",
    "outputId": "953cb331-f884-4d9c-c73f-d7c8a174ba56"
   },
   "outputs": [
    {
     "data": {
      "text/plain": [
       "False"
      ]
     },
     "execution_count": 172,
     "metadata": {},
     "output_type": "execute_result"
    }
   ],
   "source": [
    "updated_legal_list = trial_legal_list\n",
    "'seary' in updated_legal_list"
   ]
  },
  {
   "cell_type": "code",
   "execution_count": null,
   "metadata": {
    "id": "KnxePxXHJ2ko",
    "outputId": "694bc423-42b8-44c9-c4e4-10f3bf547b84"
   },
   "outputs": [
    {
     "data": {
      "text/plain": [
       "1"
      ]
     },
     "execution_count": 101,
     "metadata": {},
     "output_type": "execute_result"
    }
   ],
   "source": [
    "curr_colors1[0][2]"
   ]
  },
  {
   "cell_type": "code",
   "execution_count": null,
   "metadata": {
    "id": "4_hxctWbJ2kv",
    "outputId": "4a15cd95-2eb0-4162-853f-0ebe582a7d25"
   },
   "outputs": [
    {
     "name": "stdout",
     "output_type": "stream",
     "text": [
      "0\n",
      "1\n",
      "2\n",
      "3\n",
      "4\n"
     ]
    }
   ],
   "source": [
    "for j in range(5):\n",
    "    print (j)"
   ]
  },
  {
   "cell_type": "code",
   "execution_count": null,
   "metadata": {
    "id": "oes2zDa9J2kv"
   },
   "outputs": [],
   "source": [
    "updated_legal_list = nextGuess(guess_list1, curr_colors1, trial_legal_list)"
   ]
  },
  {
   "cell_type": "code",
   "execution_count": null,
   "metadata": {
    "id": "v6MD1jLMJ2kw",
    "outputId": "cbae543b-9b1d-436b-9da3-dbb405781efc"
   },
   "outputs": [
    {
     "data": {
      "text/plain": [
       "True"
      ]
     },
     "execution_count": 138,
     "metadata": {},
     "output_type": "execute_result"
    }
   ],
   "source": [
    "'hyleg' in trial_legal_list"
   ]
  },
  {
   "cell_type": "code",
   "execution_count": null,
   "metadata": {
    "id": "4LiUy3dPJ2kw"
   },
   "outputs": [],
   "source": [
    "col = give_colors(true_word, 'hyleg')"
   ]
  },
  {
   "cell_type": "code",
   "execution_count": null,
   "metadata": {
    "colab": {
     "base_uri": "https://localhost:8080/"
    },
    "id": "BM0dABRvJ2kw",
    "outputId": "fc619bc3-2020-4970-c6cf-71d41f78f2d3"
   },
   "outputs": [
    {
     "data": {
      "text/plain": [
       "list"
      ]
     },
     "execution_count": 16,
     "metadata": {},
     "output_type": "execute_result"
    }
   ],
   "source": [
    "type(give_colors('Marsh',  true_word))"
   ]
  },
  {
   "cell_type": "code",
   "execution_count": null,
   "metadata": {
    "id": "FbAIT8fuJ2kx",
    "outputId": "4f760f8c-39ad-4cc3-ad51-f0901f979af4"
   },
   "outputs": [
    {
     "data": {
      "text/plain": [
       "False"
      ]
     },
     "execution_count": 150,
     "metadata": {},
     "output_type": "execute_result"
    }
   ],
   "source": [
    "true_word in updated_legal_list"
   ]
  },
  {
   "cell_type": "code",
   "execution_count": null,
   "metadata": {
    "colab": {
     "base_uri": "https://localhost:8080/"
    },
    "id": "Qa3DonHNJ2kx",
    "outputId": "a9a3f40b-fbcc-4cd7-b053-200555822c90"
   },
   "outputs": [
    {
     "data": {
      "text/plain": [
       "1"
      ]
     },
     "execution_count": 25,
     "metadata": {},
     "output_type": "execute_result"
    }
   ],
   "source": [
    "sum(col)"
   ]
  },
  {
   "cell_type": "code",
   "execution_count": null,
   "metadata": {
    "colab": {
     "base_uri": "https://localhost:8080/"
    },
    "id": "lf-VsoTMkMaH",
    "outputId": "3653ef47-0151-480e-f565-589ebc1661b2"
   },
   "outputs": [
    {
     "name": "stdout",
     "output_type": "stream",
     "text": [
      "[0, 0, 1, 0, 0]\n"
     ]
    }
   ],
   "source": [
    "print(col)"
   ]
  },
  {
   "cell_type": "code",
   "execution_count": null,
   "metadata": {
    "id": "lA6Yb_Ftk24w"
   },
   "outputs": [],
   "source": []
  }
 ],
 "metadata": {
  "colab": {
   "provenance": []
  },
  "kernelspec": {
   "display_name": "Python [conda env:base] *",
   "language": "python",
   "name": "conda-base-py"
  },
  "language_info": {
   "codemirror_mode": {
    "name": "ipython",
    "version": 3
   },
   "file_extension": ".py",
   "mimetype": "text/x-python",
   "name": "python",
   "nbconvert_exporter": "python",
   "pygments_lexer": "ipython3",
   "version": "3.13.5"
  }
 },
 "nbformat": 4,
 "nbformat_minor": 4
}
