{
 "cells": [
  {
   "cell_type": "markdown",
   "id": "a2eeaee2-d7d6-483b-acc9-b82a70d28c13",
   "metadata": {},
   "source": [
    "- start with 3-4 good words to cover all the albhabets\n",
    "- say you can access only one thing 'Is abc word in the dictionary?'\n",
    "- you can use binary search of the language is universal by storring in array in alphabetical order search\n",
    "- binary search tree is better if all the words are not universal - like say a galactic family of civilisations\n",
    "- Hash table - on an average better than binary search (in DS we often care about this more than worst case) - for ex binary search takes around 30 tries for searching a array of ***one million words***\n",
    "- Hash function in this case - f [A-Z] power 10 -> {1,........,10 power 9} (10 power 9 is decided by the memory you have to spare, here we are thinking of gb)\n",
    "- Hash fuctions can lead to collisions (f(x) = f(y)), so we store lists"
   ]
  },
  {
   "cell_type": "markdown",
   "id": "2691bf67-138c-4396-8098-d2a116c20d8c",
   "metadata": {},
   "source": [
    "### Assignment - \n",
    "- Function one - next guess generator (here use top 5 best words to get all the alphabets)\n",
    "- checkValid() - Alien (list, sorted list, binary search tree, hash functions(use dictionary, maybe used first 10-20 bits of inbuilt hash functions))\n",
    "- Compute time to solve is what we will be avaluated on\n",
    "- Note - each tournament words will only be added, not deleted\n"
   ]
  },
  {
   "cell_type": "code",
   "execution_count": 8,
   "id": "ce14e4b3-9c7a-46b9-a777-457367e39d20",
   "metadata": {},
   "outputs": [
    {
     "data": {
      "text/plain": [
       "98"
      ]
     },
     "execution_count": 8,
     "metadata": {},
     "output_type": "execute_result"
    }
   ],
   "source": [
    "ord('b')"
   ]
  },
  {
   "cell_type": "markdown",
   "id": "ab13986d-901b-419d-a3ca-9b3d1f8170ec",
   "metadata": {},
   "source": [
    "checValid(word):\n",
    "- return DS search(word)\n",
    "Construct VocabDataStructure()\n",
    "- DS = empty\n",
    "     - While (W is not none)\n",
    "     - W= get_next_word()\n",
    "     - DS insert (word)\n",
    "     - return DS\n",
    "     -  create function for two operations: (search and insert)\n",
    "     "
   ]
  },
  {
   "cell_type": "code",
   "execution_count": null,
   "id": "ca32662f-ef4e-4e13-9394-8d3dc57f04a7",
   "metadata": {},
   "outputs": [],
   "source": []
  }
 ],
 "metadata": {
  "kernelspec": {
   "display_name": "Python [conda env:base] *",
   "language": "python",
   "name": "conda-base-py"
  },
  "language_info": {
   "codemirror_mode": {
    "name": "ipython",
    "version": 3
   },
   "file_extension": ".py",
   "mimetype": "text/x-python",
   "name": "python",
   "nbconvert_exporter": "python",
   "pygments_lexer": "ipython3",
   "version": "3.13.5"
  }
 },
 "nbformat": 4,
 "nbformat_minor": 5
}
