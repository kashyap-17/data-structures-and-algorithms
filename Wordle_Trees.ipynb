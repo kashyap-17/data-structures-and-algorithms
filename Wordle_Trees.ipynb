{
 "cells": [
  {
   "cell_type": "markdown",
   "id": "a2eeaee2-d7d6-483b-acc9-b82a70d28c13",
   "metadata": {},
   "source": [
    "- start with 3-4 good words to cover all the albhabets\n",
    "- say you can access only one thing 'Is abc word in the dictionary?'\n",
    "- you can use binary search of the language is universal by storring in array in alphabetical order search\n",
    "- binary search tree is better if all the words are not universal - like say a galactic family of civilisations\n",
    "- Hash table - on an average better than binary search (in DS we often care about this more than worst case) - for ex binary search takes around 30 tries for searching a array of ***one million words***\n",
    "- Hash function in this case - f [A-Z] power 10 -> {1,........,10 power 9} (10 power 9 is decided by the memory you have to spare, here we are thinking of gb)\n",
    "- Hash fuctions can lead to collisions (f(x) = f(y)), so we store lists"
   ]
  },
  {
   "cell_type": "markdown",
   "id": "2691bf67-138c-4396-8098-d2a116c20d8c",
   "metadata": {},
   "source": [
    "### Assignment - \n",
    "- Function one - next guess generator (here use top 5 best words to get all the alphabets)\n",
    "- checkValid() - Alien (list, sorted list, binary search tree, hash functions(use dictionary, maybe used first 10-20 bits of inbuilt hash functions))\n",
    "- Compute time to solve is what we will be avaluated on\n",
    "- Note - each tournament words will only be added, not deleted\n"
   ]
  },
  {
   "cell_type": "code",
   "execution_count": 8,
   "id": "ce14e4b3-9c7a-46b9-a777-457367e39d20",
   "metadata": {},
   "outputs": [
    {
     "data": {
      "text/plain": [
       "98"
      ]
     },
     "execution_count": 8,
     "metadata": {},
     "output_type": "execute_result"
    }
   ],
   "source": [
    "ord('b')"
   ]
  },
  {
   "cell_type": "markdown",
   "id": "ab13986d-901b-419d-a3ca-9b3d1f8170ec",
   "metadata": {},
   "source": [
    "checValid(word):\n",
    "- return DS search(word)\n",
    "Construct VocabDataStructure()\n",
    "- DS = empty\n",
    "     - While (W is not none)\n",
    "     - W= get_next_word()\n",
    "     - DS insert (word)\n",
    "     - return DS\n",
    "     -  create function for two operations: (search and insert)\n",
    "     "
   ]
  },
  {
   "cell_type": "code",
   "execution_count": 11,
   "id": "ca32662f-ef4e-4e13-9394-8d3dc57f04a7",
   "metadata": {},
   "outputs": [],
   "source": [
    "list = [1,5,91,92,8,3]"
   ]
  },
  {
   "cell_type": "code",
   "execution_count": 12,
   "id": "7861811b-29d4-4797-9e09-f02bdf6c2c06",
   "metadata": {},
   "outputs": [],
   "source": [
    "list1 = sorted(list)"
   ]
  },
  {
   "cell_type": "code",
   "execution_count": 16,
   "id": "3da63816-a292-4421-b4c9-5f5d9eb40cd6",
   "metadata": {},
   "outputs": [
    {
     "data": {
      "text/plain": [
       "[3, 5, 8, 91, 92]"
      ]
     },
     "execution_count": 16,
     "metadata": {},
     "output_type": "execute_result"
    }
   ],
   "source": [
    "list1[1:]"
   ]
  },
  {
   "cell_type": "code",
   "execution_count": 20,
   "id": "fb75b7cb-b9c9-4e30-bcb1-413e0e0f42a5",
   "metadata": {},
   "outputs": [],
   "source": [
    "def bin_search (l1, n):\n",
    "    l2 = l1.copy()\n",
    "    el_index = len(l2)//2\n",
    "    el = l2[el_index]\n",
    "    while(1>0):\n",
    "        if n == el:\n",
    "            return(True)\n",
    "        elif n<el:\n",
    "            l2 = l2[:el_index]\n",
    "            el_index = len(l2)//2\n",
    "            el = l2[el_index]\n",
    "        elif n>el:\n",
    "            l2 = l2[el_index:]\n",
    "            el_index = len(l2)//2\n",
    "            el = l2[el_index]\n",
    "        else:\n",
    "            return (\"Number not in list\")\n",
    "        \n",
    "            "
   ]
  },
  {
   "cell_type": "code",
   "execution_count": null,
   "id": "313ac556-dc97-44a6-af0f-876562054bfc",
   "metadata": {},
   "outputs": [],
   "source": [
    "bin_search(list1, 100)"
   ]
  },
  {
   "cell_type": "code",
   "execution_count": null,
   "id": "cce821b3-d478-4b39-84d3-cfd0dd705cc7",
   "metadata": {},
   "outputs": [],
   "source": [
    "def fact(n):\n",
    "    if n == 0 or n == 1:\n",
    "        return n\n",
    "    else:\n",
    "        return n * fact (n-1)"
   ]
  }
 ],
 "metadata": {
  "kernelspec": {
   "display_name": "Python [conda env:base] *",
   "language": "python",
   "name": "conda-base-py"
  },
  "language_info": {
   "codemirror_mode": {
    "name": "ipython",
    "version": 3
   },
   "file_extension": ".py",
   "mimetype": "text/x-python",
   "name": "python",
   "nbconvert_exporter": "python",
   "pygments_lexer": "ipython3",
   "version": "3.13.5"
  }
 },
 "nbformat": 4,
 "nbformat_minor": 5
}
