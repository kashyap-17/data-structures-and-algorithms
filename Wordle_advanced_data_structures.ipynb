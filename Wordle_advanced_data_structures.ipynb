{
 "cells": [
  {
   "cell_type": "markdown",
   "id": "a2eeaee2-d7d6-483b-acc9-b82a70d28c13",
   "metadata": {},
   "source": [
    "- start with 3-4 good words to cover all the albhabets\n",
    "- say you can access only one thing 'Is abc word in the dictionary?'\n",
    "- you can use binary search of the language is universal by storring in array in alphabetical order search\n",
    "- binary search tree is better if all the words are not universal - like say a galactic family of civilisations\n",
    "- Hash table - on an average better than binary search (in DS we often care about this more than worst case) - for ex binary search takes around 30 tries for searching a array of ***one million words***\n",
    "- Hash function in this case - f [A-Z] power 10 -> {1,........,10 power 9} (10 power 9 is decided by the memory you have to spare, here we are thinking of gb)\n",
    "- Hash fuctions can lead to collisions (f(x) = f(y)), so we store lists"
   ]
  },
  {
   "cell_type": "markdown",
   "id": "2691bf67-138c-4396-8098-d2a116c20d8c",
   "metadata": {},
   "source": [
    "### Assignment - \n",
    "- Function one - next guess generator (here use top 5 best words to get all the alphabets)\n",
    "- checkValid() - Alien (list, sorted list, binary search tree, hash functions(use dictionary, maybe used first 10-20 bits of inbuilt hash functions))\n",
    "- Compute time to solve is what we will be avaluated on\n",
    "- Note - each tournament words will only be added, not deleted\n"
   ]
  },
  {
   "cell_type": "markdown",
   "id": "ab13986d-901b-419d-a3ca-9b3d1f8170ec",
   "metadata": {},
   "source": [
    "checValid(word):\n",
    "- return DS search(word)\n",
    "Construct VocabDataStructure()\n",
    "- DS = empty\n",
    "     - While (W is not none)\n",
    "     - W= get_next_word()\n",
    "     - DS insert (word)\n",
    "     - return DS\n",
    "     -  create function for two operations: (search and insert)\n",
    "     "
   ]
  },
  {
   "cell_type": "code",
   "execution_count": 122,
   "id": "59cdcd9a",
   "metadata": {},
   "outputs": [
    {
     "name": "stdin",
     "output_type": "stream",
     "text": [
      "Once deleted, variables cannot be recovered. Proceed (y/[n])?  y\n"
     ]
    }
   ],
   "source": [
    "%reset"
   ]
  },
  {
   "cell_type": "code",
   "execution_count": 123,
   "id": "ca32662f-ef4e-4e13-9394-8d3dc57f04a7",
   "metadata": {},
   "outputs": [],
   "source": [
    "list = [1,5,91,92,8,3]"
   ]
  },
  {
   "cell_type": "code",
   "execution_count": 124,
   "id": "7861811b-29d4-4797-9e09-f02bdf6c2c06",
   "metadata": {},
   "outputs": [],
   "source": [
    "list1 = sorted(list)"
   ]
  },
  {
   "cell_type": "code",
   "execution_count": 125,
   "id": "3da63816-a292-4421-b4c9-5f5d9eb40cd6",
   "metadata": {},
   "outputs": [
    {
     "data": {
      "text/plain": [
       "[1, 3, 5, 8, 91, 92]"
      ]
     },
     "execution_count": 125,
     "metadata": {},
     "output_type": "execute_result"
    }
   ],
   "source": [
    "list1"
   ]
  },
  {
   "cell_type": "code",
   "execution_count": 126,
   "id": "fb75b7cb-b9c9-4e30-bcb1-413e0e0f42a5",
   "metadata": {},
   "outputs": [],
   "source": [
    "def bin_search (l1, target):\n",
    "    left = 0\n",
    "    right = len(l1) - 1\n",
    "    while(left<= right):\n",
    "        mid = (left + right)//2\n",
    "        candidate = l1[mid]\n",
    "        if candidate == target:\n",
    "            return True\n",
    "        elif candidate > target:\n",
    "            right = mid - 1\n",
    "        elif candidate < target:\n",
    "            left = mid + 1\n",
    "    return (\"Number not in list\")\n",
    "        \n",
    "            "
   ]
  },
  {
   "cell_type": "code",
   "execution_count": 127,
   "id": "f286b631",
   "metadata": {},
   "outputs": [
    {
     "data": {
      "text/plain": [
       "'Number not in list'"
      ]
     },
     "execution_count": 127,
     "metadata": {},
     "output_type": "execute_result"
    }
   ],
   "source": [
    "bin_search(list1, 922)"
   ]
  },
  {
   "cell_type": "code",
   "execution_count": 128,
   "id": "cce821b3-d478-4b39-84d3-cfd0dd705cc7",
   "metadata": {},
   "outputs": [],
   "source": [
    "import time\n",
    "import random\n",
    "import nltk\n",
    "from nltk.corpus import words"
   ]
  },
  {
   "cell_type": "code",
   "execution_count": 129,
   "id": "f1926ebf",
   "metadata": {},
   "outputs": [
    {
     "name": "stderr",
     "output_type": "stream",
     "text": [
      "[nltk_data] Downloading package words to /Users/kashyap/nltk_data...\n",
      "[nltk_data]   Package words is already up-to-date!\n"
     ]
    },
    {
     "data": {
      "text/plain": [
       "True"
      ]
     },
     "execution_count": 129,
     "metadata": {},
     "output_type": "execute_result"
    }
   ],
   "source": [
    "nltk.download('words')"
   ]
  },
  {
   "cell_type": "code",
   "execution_count": 130,
   "id": "b282e722",
   "metadata": {},
   "outputs": [],
   "source": [
    "english_words = words.words()\n",
    "length_5_words= []\n",
    "length_5_non_repeating_char_words = []\n",
    "for el in english_words:\n",
    "    if len(el)==5:\n",
    "        length_5_words.append(el.upper())\n",
    "        if len(set(el))==5:\n",
    "\n",
    "            length_5_non_repeating_char_words.append(el.upper())\n",
    "            \n",
    "random.shuffle(length_5_non_repeating_char_words)"
   ]
  },
  {
   "cell_type": "code",
   "execution_count": 131,
   "id": "ba08c8e2",
   "metadata": {},
   "outputs": [],
   "source": [
    "class MyList:\n",
    "    def __init__(self):\n",
    "        self.elements =[]\n",
    "\n",
    "    def insert(self, element):\n",
    "        self.elements.append(element)\n",
    "\n",
    "    def search(self, data):\n",
    "        return data in self.elements"
   ]
  },
  {
   "cell_type": "code",
   "execution_count": 132,
   "id": "27ee8c7a",
   "metadata": {},
   "outputs": [
    {
     "name": "stdout",
     "output_type": "stream",
     "text": [
      "Insertion time: 0.0019 s\n",
      "[False, True, False, True, False, True]\n",
      "Search time: 0.0009 s\n"
     ]
    }
   ],
   "source": [
    "# evaluation protocol for just insert and search\n",
    "\n",
    "legal_word_list = length_5_non_repeating_char_words # this is something I give for the final evaluation. In general it can be anything\n",
    "search_elements = [\"ASDFG\",legal_word_list[25], \"QWERT\", legal_word_list[45], \"ZASDW\", legal_word_list[567]]\n",
    "\n",
    "vocabulary = MyList() \n",
    "# I have written MyList(), this should work for datastructures MyBST, MySortedList, MyHashTable as well. \n",
    "# These three classes you have to write yourself\n",
    "\n",
    "\n",
    "start = time.time()\n",
    "for i in range(len(legal_word_list)):\n",
    "    vocabulary.insert(legal_word_list[i])\n",
    "end=time.time()\n",
    "print(f'Insertion time: {round(end-start,4)} s')\n",
    "start = time.time()\n",
    "answers = []\n",
    "for j in range(len(search_elements)):\n",
    "    answers.append(vocabulary.search(search_elements[j]))\n",
    "end=time.time()\n",
    "\n",
    "print(answers)\n",
    "print(f'Search time: {round(end-start,4)} s')"
   ]
  },
  {
   "cell_type": "code",
   "execution_count": 133,
   "id": "cb580430",
   "metadata": {},
   "outputs": [],
   "source": [
    "class MySortedList:\n",
    "    def __init__(self):\n",
    "        self.elements =[]\n",
    "\n",
    "    def insert(self, element):\n",
    "        #self.elements.append(element)\n",
    "        #self.elements.sort()\n",
    "        left = 0\n",
    "        right = len(self.elements)-1\n",
    "        while left <= right:\n",
    "            mid = (left + right) //2\n",
    "            if element > self.elements[mid]:\n",
    "                left = mid + 1\n",
    "            else:\n",
    "                right = mid -1\n",
    "        self.elements.insert(left, element)\n",
    "\n",
    "    def search(self, data):\n",
    "        left = 0\n",
    "        right = len(self.elements) - 1\n",
    "        while (left <= right):\n",
    "            mid = (left + right) //2\n",
    "            candidate = self.elements[mid]\n",
    "            if candidate == data:\n",
    "                return True\n",
    "            elif candidate > data:\n",
    "                right = mid -1\n",
    "            elif candidate < data:\n",
    "                left = mid+1\n",
    "        return False"
   ]
  },
  {
   "cell_type": "code",
   "execution_count": 134,
   "id": "b58dd4ef",
   "metadata": {},
   "outputs": [
    {
     "name": "stdout",
     "output_type": "stream",
     "text": [
      "Insertion time: 0.0325 s\n",
      "[False, True, False, True, False, True]\n",
      "Search time: 0.0002 s\n"
     ]
    }
   ],
   "source": [
    "# evaluation protocol for just insert and search in sorted list\n",
    "\n",
    "legal_word_list = length_5_non_repeating_char_words # this is something I give for the final evaluation. In general it can be anything\n",
    "search_elements = [\"ASDFG\",legal_word_list[25], \"QWERT\", legal_word_list[45], \"ZASDW\", legal_word_list[567]]\n",
    "\n",
    "vocabulary1 = MySortedList() \n",
    "# for datastructure MySortedList\n",
    "\n",
    "\n",
    "start = time.time()\n",
    "for i in range(len(legal_word_list)):\n",
    "    vocabulary1.insert(legal_word_list[i])\n",
    "end=time.time()\n",
    "print(f'Insertion time: {round(end-start,4)} s')\n",
    "start = time.time()\n",
    "answers = []\n",
    "for j in range(len(search_elements)):\n",
    "    answers.append(vocabulary1.search(search_elements[j]))\n",
    "end=time.time()\n",
    "\n",
    "print(answers)\n",
    "print(f'Search time: {round(end-start,4)} s')"
   ]
  },
  {
   "cell_type": "code",
   "execution_count": 135,
   "id": "477b7b93",
   "metadata": {},
   "outputs": [],
   "source": [
    "class Node:\n",
    "    def __init__(self, data):\n",
    "        self.val = data\n",
    "        self.left = None\n",
    "        self.right = None\n",
    "        self.parent = None"
   ]
  },
  {
   "cell_type": "code",
   "execution_count": 136,
   "id": "9de75243",
   "metadata": {},
   "outputs": [],
   "source": [
    "class MyBST:\n",
    "    def __init__(self):\n",
    "        self.root = None\n",
    "\n",
    "    def insert(self, element):\n",
    "        if self.root is None:\n",
    "            self.root = Node(element)\n",
    "            return\n",
    "        else: \n",
    "            curr = self.root\n",
    "            new_node = Node(element)\n",
    "            while curr is not None:\n",
    "                if new_node.val == curr.val:\n",
    "                    return\n",
    "                if new_node.val > curr.val:\n",
    "                    if curr.right is None:\n",
    "                        curr.right = new_node\n",
    "                        return\n",
    "                    else:\n",
    "                        curr = curr.right\n",
    "                elif new_node.val < curr.val:\n",
    "                    if curr.left is None:\n",
    "                        curr.left = new_node\n",
    "                        return\n",
    "                    else:\n",
    "                        curr = curr.left                \n",
    "\n",
    "    def search(self, data):\n",
    "        curr = self.root\n",
    "        while curr is not None:\n",
    "            if curr.val == data:\n",
    "                return True\n",
    "            elif curr.val > data:\n",
    "                curr = curr.left\n",
    "            else:\n",
    "                curr = curr.right\n",
    "        return False"
   ]
  },
  {
   "cell_type": "code",
   "execution_count": 137,
   "id": "e6715cbd",
   "metadata": {},
   "outputs": [
    {
     "name": "stdout",
     "output_type": "stream",
     "text": [
      "Insertion time: 0.0746 s\n",
      "[False, True, False, True, False, True]\n",
      "Search time: 0.0003 s\n"
     ]
    }
   ],
   "source": [
    "# evaluation protocol for just insert and search BST\n",
    "\n",
    "legal_word_list = length_5_non_repeating_char_words # this is something I give for the final evaluation. In general it can be anything\n",
    "search_elements = [\"ASDFG\",legal_word_list[25], \"QWERT\", legal_word_list[45], \"ZASDW\", legal_word_list[567]]\n",
    "\n",
    "vocabulary2 = MyBST() \n",
    "# for datastructure MyBST\n",
    "\n",
    "start = time.time()\n",
    "for i in range(len(legal_word_list)):\n",
    "    vocabulary2.insert(legal_word_list[i])\n",
    "end=time.time()\n",
    "print(f'Insertion time: {round(end-start,4)} s')\n",
    "start = time.time()\n",
    "answers = []\n",
    "for j in range(len(search_elements)):\n",
    "    answers.append(vocabulary2.search(search_elements[j]))\n",
    "end=time.time()\n",
    "\n",
    "print(answers)\n",
    "print(f'Search time: {round(end-start,4)} s')"
   ]
  },
  {
   "cell_type": "code",
   "execution_count": 138,
   "id": "96f1f249-77af-4ef4-87d7-8a0ec6e6a165",
   "metadata": {},
   "outputs": [],
   "source": [
    "class MyHashTable:\n",
    "    def __init__(self):\n",
    "        self.elements = set()\n",
    "\n",
    "    def insert(self, element):\n",
    "        self.elements.add(element)\n",
    "\n",
    "    def search(self, data):\n",
    "        return data in self.elements"
   ]
  },
  {
   "cell_type": "code",
   "execution_count": 139,
   "id": "0c454ae4-969c-4133-9b60-902e1c9fc1c7",
   "metadata": {},
   "outputs": [
    {
     "name": "stdout",
     "output_type": "stream",
     "text": [
      "Insertion time: 0.004 s\n",
      "[False, True, False, True, False, True]\n",
      "Search time: 0.0002 s\n"
     ]
    }
   ],
   "source": [
    "# evaluation protocol for just insert and search HashTable\n",
    "\n",
    "legal_word_list = length_5_non_repeating_char_words # this is something I give for the final evaluation. In general it can be anything\n",
    "search_elements = [\"ASDFG\",legal_word_list[25], \"QWERT\", legal_word_list[45], \"ZASDW\", legal_word_list[567]]\n",
    "\n",
    "vocabulary3 = MyHashTable() \n",
    "# for datastructure MyHashTable\n",
    "\n",
    "start = time.time()\n",
    "for i in range(len(legal_word_list)):\n",
    "    vocabulary3.insert(legal_word_list[i])\n",
    "end=time.time()\n",
    "print(f'Insertion time: {round(end-start,4)} s')\n",
    "start = time.time()\n",
    "answers = []\n",
    "for j in range(len(search_elements)):\n",
    "    answers.append(vocabulary3.search(search_elements[j]))\n",
    "end=time.time()\n",
    "\n",
    "print(answers)\n",
    "print(f'Search time: {round(end-start,4)} s')"
   ]
  },
  {
   "cell_type": "code",
   "execution_count": 164,
   "id": "d42d8c18-ca5a-4a78-b46a-860f91fc9ce0",
   "metadata": {},
   "outputs": [],
   "source": [
    "class MyHashMap:\n",
    "    def __init__(self):\n",
    "        self.elements = {}\n",
    "\n",
    "    def insert(self, element):\n",
    "        hash_el = hash(element)//100000000\n",
    "        if hash_el in self.elements:\n",
    "            self.elements[hash_el].append(element)\n",
    "        else:\n",
    "            self.elements[hash_el] = [element]\n",
    "\n",
    "    def search(self, data):\n",
    "        data_list =  self.elements.get(hash(data)//100000000,[] )\n",
    "        return data in data_list"
   ]
  },
  {
   "cell_type": "code",
   "execution_count": 165,
   "id": "200f046b-b0d1-4c12-9239-abb97d129467",
   "metadata": {},
   "outputs": [
    {
     "name": "stdout",
     "output_type": "stream",
     "text": [
      "Insertion time: 0.0086 s\n",
      "[False, True, False, True, False, True]\n",
      "Search time: 0.0004 s\n"
     ]
    }
   ],
   "source": [
    "# evaluation protocol for just insert and search in HashMap\n",
    "\n",
    "legal_word_list = length_5_non_repeating_char_words # this is something I give for the final evaluation. In general it can be anything\n",
    "search_elements = [\"ASDFG\",legal_word_list[25], \"QWERT\", legal_word_list[45], \"ZASDW\", legal_word_list[567]]\n",
    "\n",
    "vocabulary4 = MyHashMap() \n",
    "# for datastructure MyHashMap\n",
    "\n",
    "start = time.time()\n",
    "for i in range(len(legal_word_list)):\n",
    "    vocabulary4.insert(legal_word_list[i])\n",
    "end=time.time()\n",
    "print(f'Insertion time: {round(end-start,4)} s')\n",
    "start = time.time()\n",
    "answers = []\n",
    "for j in range(len(search_elements)):\n",
    "    answers.append(vocabulary4.search(search_elements[j]))\n",
    "end=time.time()\n",
    "\n",
    "print(answers)\n",
    "print(f'Search time: {round(end-start,4)} s')"
   ]
  },
  {
   "cell_type": "code",
   "execution_count": 142,
   "id": "32cf0ee9-6abb-41ac-8ab2-289ddf760a85",
   "metadata": {},
   "outputs": [],
   "source": [
    "dic1 = {}"
   ]
  },
  {
   "cell_type": "code",
   "execution_count": 143,
   "id": "8a7c5afa-49f4-4766-a4a6-0056c84c2963",
   "metadata": {},
   "outputs": [],
   "source": [
    "dic1[1] = ['a']"
   ]
  },
  {
   "cell_type": "code",
   "execution_count": 144,
   "id": "9620ed68-dbc0-4d27-97ee-0029af343de7",
   "metadata": {},
   "outputs": [],
   "source": [
    "(dic1[1]).append('b')"
   ]
  },
  {
   "cell_type": "code",
   "execution_count": 145,
   "id": "33423fe9-ae8c-4748-a8b7-2459eaf0ed5b",
   "metadata": {},
   "outputs": [
    {
     "data": {
      "text/plain": [
       "{1: ['a', 'b']}"
      ]
     },
     "execution_count": 145,
     "metadata": {},
     "output_type": "execute_result"
    }
   ],
   "source": [
    "dic1"
   ]
  },
  {
   "cell_type": "markdown",
   "id": "5df6d850-4054-471c-a50b-613728256136",
   "metadata": {},
   "source": []
  },
  {
   "cell_type": "markdown",
   "id": "205f1a73-9221-491a-ada0-ec7b432958b7",
   "metadata": {},
   "source": []
  },
  {
   "cell_type": "code",
   "execution_count": 146,
   "id": "b536b6c9-1c4d-45d5-b2a0-5d953d2fca2f",
   "metadata": {},
   "outputs": [
    {
     "data": {
      "text/plain": [
       "dict_keys([1])"
      ]
     },
     "execution_count": 146,
     "metadata": {},
     "output_type": "execute_result"
    }
   ],
   "source": [
    "dic1.keys()"
   ]
  },
  {
   "cell_type": "code",
   "execution_count": 105,
   "id": "492a1c50-8ea0-4ea7-8ca6-0108903a1fb5",
   "metadata": {},
   "outputs": [
    {
     "data": {
      "text/plain": [
       "2473771658"
      ]
     },
     "execution_count": 105,
     "metadata": {},
     "output_type": "execute_result"
    }
   ],
   "source": [
    "hash(\"ASDFG\")//1000000000"
   ]
  },
  {
   "cell_type": "code",
   "execution_count": null,
   "id": "3da6f81d-da2d-4625-8f60-280219595449",
   "metadata": {},
   "outputs": [],
   "source": []
  }
 ],
 "metadata": {
  "kernelspec": {
   "display_name": "Python [conda env:base] *",
   "language": "python",
   "name": "conda-base-py"
  },
  "language_info": {
   "codemirror_mode": {
    "name": "ipython",
    "version": 3
   },
   "file_extension": ".py",
   "mimetype": "text/x-python",
   "name": "python",
   "nbconvert_exporter": "python",
   "pygments_lexer": "ipython3",
   "version": "3.13.5"
  }
 },
 "nbformat": 4,
 "nbformat_minor": 5
}
