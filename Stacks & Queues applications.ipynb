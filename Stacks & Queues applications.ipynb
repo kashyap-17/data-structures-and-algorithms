{
 "cells": [
  {
   "cell_type": "markdown",
   "id": "8d5725ba-9425-416c-ad51-0603e502c545",
   "metadata": {},
   "source": [
    "### Calculating Span for each element of a list\n",
    "\n",
    "Span - # of elements (including itself) before an element which are all smaller or equl to it"
   ]
  },
  {
   "cell_type": "code",
   "execution_count": 1,
   "id": "7db8e061-a3be-4abf-928a-94b5d8181727",
   "metadata": {},
   "outputs": [],
   "source": [
    "import time "
   ]
  },
  {
   "cell_type": "code",
   "execution_count": 2,
   "id": "38bc40c0-1ecc-472d-9eef-d23eaf6b332f",
   "metadata": {},
   "outputs": [
    {
     "name": "stdout",
     "output_type": "stream",
     "text": [
      "hello world\n",
      "Time taken = 0.0004 seconds\n"
     ]
    }
   ],
   "source": [
    "start = time.time()\n",
    "print('hello world')\n",
    "end = time.time()\n",
    "print(f'Time taken = {round((end - start),4)} seconds')"
   ]
  },
  {
   "cell_type": "code",
   "execution_count": 3,
   "id": "3c53c724-146f-4468-b575-dada950da161",
   "metadata": {},
   "outputs": [],
   "source": [
    "import random "
   ]
  },
  {
   "cell_type": "code",
   "execution_count": 21,
   "id": "a817b863-6cdd-40f7-8e30-ad00a5124254",
   "metadata": {},
   "outputs": [],
   "source": [
    "random.seed(27)\n",
    "sequence = random.choices(range(1,10), k =8)"
   ]
  },
  {
   "cell_type": "code",
   "execution_count": 22,
   "id": "e7693d3c-e6e2-4c36-ab9b-ab76661378e5",
   "metadata": {},
   "outputs": [
    {
     "name": "stdout",
     "output_type": "stream",
     "text": [
      "[6, 7, 9, 2, 1, 8, 3, 4]\n"
     ]
    }
   ],
   "source": [
    "print(sequence)"
   ]
  },
  {
   "cell_type": "code",
   "execution_count": 23,
   "id": "9e3358c2-f758-4170-a529-a3e6f91cf169",
   "metadata": {},
   "outputs": [],
   "source": [
    "class Node:\n",
    "    def __init__(self,data):\n",
    "        self.data = data\n",
    "        self.prev = None"
   ]
  },
  {
   "cell_type": "code",
   "execution_count": 24,
   "id": "57679c09-d1a6-4a2a-88b1-943eee0b6754",
   "metadata": {},
   "outputs": [],
   "source": [
    "node1 = Node(2)"
   ]
  },
  {
   "cell_type": "code",
   "execution_count": 31,
   "id": "69c631f1-840d-436d-b646-88f57b7de8aa",
   "metadata": {},
   "outputs": [],
   "source": [
    "class MyStack:\n",
    "    def __init__(self):\n",
    "        self.top = None\n",
    "        self.size = 0\n",
    "\n",
    "    def push(self, data):\n",
    "        if self.top is None:\n",
    "            self.top = Node(data)\n",
    "            self.size += 1\n",
    "        else:\n",
    "            new_top = Node(data)\n",
    "            new_top.prev = self.top\n",
    "            self.top = new_top\n",
    "            self.size += 1\n",
    "            \n",
    "    def peek(self):\n",
    "        if self.size == 0:\n",
    "            print('Stack is empty')\n",
    "            return -1\n",
    "        else:\n",
    "            return(self.top.data)\n",
    "\n",
    "    def pop(self):\n",
    "        if self.size == 0:\n",
    "            print('Stack is empty')\n",
    "            return -1\n",
    "        else:\n",
    "            top_el = self.top.data\n",
    "            self.top = self.top.prev\n",
    "            self.size -= 1\n",
    "            return(top_el)\n",
    "    \n",
    "    def print_stk(self):\n",
    "        if self.size == 0:\n",
    "            print('Stack is empty')\n",
    "            return -1\n",
    "        else:\n",
    "            curr = self.top\n",
    "            while curr is not None:\n",
    "                print(curr.data)\n",
    "                curr = curr.prev\n",
    "    \n",
    "            "
   ]
  },
  {
   "cell_type": "code",
   "execution_count": 35,
   "id": "820a199d-4d25-414e-ad59-d41f2620ffd0",
   "metadata": {},
   "outputs": [],
   "source": [
    "span = []\n",
    "blocker = MyStack()"
   ]
  },
  {
   "cell_type": "code",
   "execution_count": 36,
   "id": "929836ac-408c-4322-907c-f9388da0b062",
   "metadata": {},
   "outputs": [
    {
     "name": "stdout",
     "output_type": "stream",
     "text": [
      "[1]\n",
      "0\n",
      "[1, 2]\n",
      "1\n",
      "[1, 2, 3]\n",
      "2\n",
      "[1, 2, 3, 1]\n",
      "3\n",
      "2\n",
      "[1, 2, 3, 1, 1]\n",
      "4\n",
      "3\n",
      "2\n",
      "[1, 2, 3, 1, 1, 3]\n",
      "5\n",
      "2\n",
      "[1, 2, 3, 1, 1, 3, 1]\n",
      "6\n",
      "5\n",
      "2\n",
      "[1, 2, 3, 1, 1, 3, 1, 2]\n",
      "7\n",
      "5\n",
      "2\n",
      "[6, 7, 9, 2, 1, 8, 3, 4] [1, 2, 3, 1, 1, 3, 1, 2]\n"
     ]
    }
   ],
   "source": [
    "for i in range(len(sequence)):\n",
    "    while (blocker.size != 0 and sequence[i] >= sequence[blocker.peek()]):\n",
    "        blocker.pop()\n",
    "    if blocker.size == 0:\n",
    "        span.append(i + 1)\n",
    "    if blocker.size != 0:\n",
    "        span.append(i - blocker.peek())\n",
    "    blocker.push(i)\n",
    "    print(span)\n",
    "    blocker.print_stk()\n",
    "print (sequence, span)    "
   ]
  },
  {
   "cell_type": "code",
   "execution_count": 28,
   "id": "a45a67fe-1aa9-4401-9ebc-912ffbed404e",
   "metadata": {},
   "outputs": [
    {
     "data": {
      "text/plain": [
       "[1, 2, 3, 4, 1, 6, 1, 1]"
      ]
     },
     "execution_count": 28,
     "metadata": {},
     "output_type": "execute_result"
    }
   ],
   "source": [
    "span"
   ]
  },
  {
   "cell_type": "code",
   "execution_count": 29,
   "id": "c67873f8-f60c-47c4-a28a-ea99c03319e3",
   "metadata": {},
   "outputs": [],
   "source": [
    "dict1 = {i:j for i, j in zip(sequence,span)}"
   ]
  },
  {
   "cell_type": "code",
   "execution_count": 30,
   "id": "5e522063-e31e-43f6-a765-bd3e12032d65",
   "metadata": {},
   "outputs": [
    {
     "name": "stdout",
     "output_type": "stream",
     "text": [
      "{6: 1, 7: 2, 9: 3, 2: 4, 1: 1, 8: 6, 3: 1, 4: 1}\n"
     ]
    }
   ],
   "source": [
    "print(dict1)"
   ]
  },
  {
   "cell_type": "markdown",
   "id": "57060daa-a57b-476a-826e-7140fb9ae702",
   "metadata": {},
   "source": [
    "#### Visualising array vs span"
   ]
  },
  {
   "cell_type": "code",
   "execution_count": 40,
   "id": "10d041f0-134c-4c80-96f8-4b671fbf50f3",
   "metadata": {},
   "outputs": [
    {
     "name": "stdout",
     "output_type": "stream",
     "text": [
      "Requirement already satisfied: matplotlib in /opt/anaconda3/lib/python3.13/site-packages (3.10.5)\n",
      "Requirement already satisfied: contourpy>=1.0.1 in /opt/anaconda3/lib/python3.13/site-packages (from matplotlib) (1.3.1)\n",
      "Requirement already satisfied: cycler>=0.10 in /opt/anaconda3/lib/python3.13/site-packages (from matplotlib) (0.11.0)\n",
      "Requirement already satisfied: fonttools>=4.22.0 in /opt/anaconda3/lib/python3.13/site-packages (from matplotlib) (4.55.3)\n",
      "Requirement already satisfied: kiwisolver>=1.3.1 in /opt/anaconda3/lib/python3.13/site-packages (from matplotlib) (1.4.8)\n",
      "Requirement already satisfied: numpy>=1.23 in /opt/anaconda3/lib/python3.13/site-packages (from matplotlib) (2.1.3)\n",
      "Requirement already satisfied: packaging>=20.0 in /opt/anaconda3/lib/python3.13/site-packages (from matplotlib) (24.2)\n",
      "Requirement already satisfied: pillow>=8 in /opt/anaconda3/lib/python3.13/site-packages (from matplotlib) (11.1.0)\n",
      "Requirement already satisfied: pyparsing>=2.3.1 in /opt/anaconda3/lib/python3.13/site-packages (from matplotlib) (3.2.0)\n",
      "Requirement already satisfied: python-dateutil>=2.7 in /opt/anaconda3/lib/python3.13/site-packages (from matplotlib) (2.9.0.post0)\n",
      "Requirement already satisfied: six>=1.5 in /opt/anaconda3/lib/python3.13/site-packages (from python-dateutil>=2.7->matplotlib) (1.17.0)\n",
      "Requirement already satisfied: matplotlib-inline in /opt/anaconda3/lib/python3.13/site-packages (0.1.7)\n",
      "Requirement already satisfied: traitlets in /opt/anaconda3/lib/python3.13/site-packages (from matplotlib-inline) (5.14.3)\n"
     ]
    }
   ],
   "source": [
    "!pip install --upgrade matplotlib #added these as inline was not working, can change to comment for further iterations\n",
    "!pip install --upgrade matplotlib-inline"
   ]
  },
  {
   "cell_type": "code",
   "execution_count": 14,
   "id": "3dfe4d06-dae0-4c09-b7f7-2075d8e974da",
   "metadata": {},
   "outputs": [],
   "source": [
    "%matplotlib inline"
   ]
  },
  {
   "cell_type": "code",
   "execution_count": 15,
   "id": "dd0d36a2-118d-4f98-9246-69c9c33838da",
   "metadata": {},
   "outputs": [],
   "source": [
    "import matplotlib.pyplot as plt\n",
    "plt.style.use('classic')"
   ]
  },
  {
   "cell_type": "code",
   "execution_count": 43,
   "id": "4f2d4cb7-39be-432a-86bd-5590cc020f4f",
   "metadata": {},
   "outputs": [
    {
     "data": {
      "image/png": "[encoded data removed]",
      "text/plain": [
       "<Figure size 640x400 with 1 Axes>"
      ]
     },
     "metadata": {},
     "output_type": "display_data"
    }
   ],
   "source": [
    "# Set up the figure and axes\n",
    "fig, ax = plt.subplots(figsize=(8, 5), constrained_layout=True)\n",
    "\n",
    "# Create the bar plot\n",
    "ax.bar(range(len(sequence)), span, tick_label=sequence)\n",
    "\n",
    "# Add labels and title\n",
    "ax.set_title('Span Value for Each Element in Sequence')\n",
    "ax.set_xlabel('Element Value')\n",
    "ax.set_ylabel('Span')\n",
    "\n",
    "# Optionally, add value labels above bars\n",
    "for idx, value in enumerate(span):\n",
    "    ax.text(idx, value + 0.1, str(value), ha='center', va='bottom')"
   ]
  },
  {
   "cell_type": "code",
   "execution_count": 47,
   "id": "53c31dca-aa48-4c25-884c-f4f0410b01cf",
   "metadata": {},
   "outputs": [
    {
     "name": "stderr",
     "output_type": "stream",
     "text": [
      "/var/folders/7z/2r2pl0fn7pj1ym51ky93fl7m0000gn/T/ipykernel_5261/3194667859.py:5: FutureWarning: \n",
      "\n",
      "Passing `palette` without assigning `hue` is deprecated and will be removed in v0.14.0. Assign the `x` variable to `hue` and set `legend=False` for the same effect.\n",
      "\n",
      "  sns.barplot(x=list(range(len(sequence))), y=span, palette=\"Blues_d\", ax=ax)\n"
     ]
    },
    {
     "data": {
      "image/png": "[encoded data removed]",
      "text/plain": [
       "<Figure size 640x400 with 1 Axes>"
      ]
     },
     "metadata": {},
     "output_type": "display_data"
    }
   ],
   "source": [
    "# better visualisation thru seaborn\n",
    "\n",
    "import seaborn as sns\n",
    "fig, ax = plt.subplots(figsize=(8, 5))  # avoid plt.figure()\n",
    "sns.barplot(x=list(range(len(sequence))), y=span, palette=\"Blues_d\", ax=ax)\n",
    "\n",
    "ax.set_xticks(range(len(sequence)))\n",
    "ax.set_xticklabels(sequence)\n",
    "ax.set_xlabel('Element Value')\n",
    "ax.set_ylabel('Span')\n",
    "ax.set_title('Span Value for Each Element in Sequence')\n",
    "\n",
    "for idx, value in enumerate(span):\n",
    "    ax.text(idx, value + 0.15, str(value), ha='center', va='bottom', color='black', fontsize=12, fontweight='bold')\n",
    "ax.set_ylim(0, max(span) + 1)\n",
    "\n",
    "plt.tight_layout()\n"
   ]
  },
  {
   "cell_type": "code",
   "execution_count": 36,
   "id": "eba4adcb-24f4-4da4-ad69-58569ade2abe",
   "metadata": {},
   "outputs": [
    {
     "name": "stdout",
     "output_type": "stream",
     "text": [
      "Help on method sample in module random:\n",
      "\n",
      "sample(population, k, *, counts=None) method of random.Random instance\n",
      "    Chooses k unique random elements from a population sequence.\n",
      "\n",
      "    Returns a new list containing elements from the population while\n",
      "    leaving the original population unchanged.  The resulting list is\n",
      "    in selection order so that all sub-slices will also be valid random\n",
      "    samples.  This allows raffle winners (the sample) to be partitioned\n",
      "    into grand prize and second place winners (the subslices).\n",
      "\n",
      "    Members of the population need not be hashable or unique.  If the\n",
      "    population contains repeats, then each occurrence is a possible\n",
      "    selection in the sample.\n",
      "\n",
      "    Repeated elements can be specified one at a time or with the optional\n",
      "    counts parameter.  For example:\n",
      "\n",
      "        sample(['red', 'blue'], counts=[4, 2], k=5)\n",
      "\n",
      "    is equivalent to:\n",
      "\n",
      "        sample(['red', 'red', 'red', 'red', 'blue', 'blue'], k=5)\n",
      "\n",
      "    To choose a sample from a range of integers, use range() for the\n",
      "    population argument.  This is especially fast and space efficient\n",
      "    for sampling from a large population:\n",
      "\n",
      "        sample(range(10000000), 60)\n",
      "\n"
     ]
    }
   ],
   "source": [
    "\n"
   ]
  },
  {
   "cell_type": "code",
   "execution_count": null,
   "id": "9874802c-5075-41ca-9c6f-dd58f2218829",
   "metadata": {},
   "outputs": [],
   "source": []
  }
 ],
 "metadata": {
  "kernelspec": {
   "display_name": "Python [conda env:base] *",
   "language": "python",
   "name": "conda-base-py"
  },
  "language_info": {
   "codemirror_mode": {
    "name": "ipython",
    "version": 3
   },
   "file_extension": ".py",
   "mimetype": "text/x-python",
   "name": "python",
   "nbconvert_exporter": "python",
   "pygments_lexer": "ipython3",
   "version": "3.13.5"
  }
 },
 "nbformat": 4,
 "nbformat_minor": 5
}
